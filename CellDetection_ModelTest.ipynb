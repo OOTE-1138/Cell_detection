{
 "cells": [
  {
   "cell_type": "markdown",
   "metadata": {
    "id": "qIW0EfZXvQiu"
   },
   "source": [
    "#### Teachable Machine 추출 모델 테스트"
   ]
  },
  {
   "cell_type": "code",
   "execution_count": 1,
   "metadata": {
    "colab": {
     "base_uri": "https://localhost:8080/"
    },
    "executionInfo": {
     "elapsed": 10,
     "status": "ok",
     "timestamp": 1658041161019,
     "user": {
      "displayName": "박연균",
      "userId": "04526366611941255137"
     },
     "user_tz": -540
    },
    "id": "mYgjvDw0ffyc",
    "outputId": "54f991f1-9f89-4b0c-ff00-f5582f86e1b4"
   },
   "outputs": [
    {
     "name": "stdout",
     "output_type": "stream",
     "text": [
      "Python 3.9.21\n"
     ]
    }
   ],
   "source": [
    "!python --version"
   ]
  },
  {
   "cell_type": "code",
   "execution_count": 2,
   "metadata": {
    "colab": {
     "base_uri": "https://localhost:8080/",
     "height": 36
    },
    "executionInfo": {
     "elapsed": 5,
     "status": "ok",
     "timestamp": 1656239661146,
     "user": {
      "displayName": "박연균",
      "userId": "04526366611941255137"
     },
     "user_tz": -540
    },
    "id": "rgl67ZoLk5UG",
    "outputId": "43c3f91b-d30d-40f2-f3df-19a680b35807"
   },
   "outputs": [
    {
     "data": {
      "text/plain": [
       "'/home/oote/elthe/cell_detection'"
      ]
     },
     "execution_count": 2,
     "metadata": {},
     "output_type": "execute_result"
    }
   ],
   "source": [
    "pwd"
   ]
  },
  {
   "cell_type": "code",
   "execution_count": 1,
   "metadata": {
    "executionInfo": {
     "elapsed": 3490,
     "status": "ok",
     "timestamp": 1673493085028,
     "user": {
      "displayName": "박연균",
      "userId": "04526366611941255137"
     },
     "user_tz": -540
    },
    "id": "l_GwtIzjgDFO"
   },
   "outputs": [
    {
     "name": "stderr",
     "output_type": "stream",
     "text": [
      "2025-01-27 01:55:46.406867: I tensorflow/core/platform/cpu_feature_guard.cc:210] This TensorFlow binary is optimized to use available CPU instructions in performance-critical operations.\n",
      "To enable the following instructions: AVX2 FMA, in other operations, rebuild TensorFlow with the appropriate compiler flags.\n",
      "2025-01-27 01:55:47.174025: W tensorflow/compiler/tf2tensorrt/utils/py_utils.cc:38] TF-TRT Warning: Could not find TensorRT\n"
     ]
    }
   ],
   "source": [
    "from keras.models import load_model\n",
    "from PIL import Image, ImageOps\n",
    "import numpy as np\n",
    "import glob\n",
    "from matplotlib import pyplot as plt\n",
    "import h5py\n",
    "Image.ANTIALIAS = Image.LANCZOS"
   ]
  },
  {
   "cell_type": "code",
   "execution_count": 2,
   "metadata": {},
   "outputs": [],
   "source": [
    "f = h5py.File(\"keras_model3.h5\", mode=\"r+\")\n",
    "model_config_string = f.attrs.get(\"model_config\")\n",
    "if model_config_string.find('\"groups\": 1,') != -1:\n",
    "    model_config_string = model_config_string.replace('\"groups\": 1,', '')\n",
    "    f.attrs.modify('model_config', model_config_string)\n",
    "    f.flush()\n",
    "    model_config_string = f.attrs.get(\"model_config\")\n",
    "    assert model_config_string.find('\"groups\": 1,') == -1\n",
    "\n",
    "f.close()"
   ]
  },
  {
   "cell_type": "code",
   "execution_count": 4,
   "metadata": {
    "executionInfo": {
     "elapsed": 3958,
     "status": "ok",
     "timestamp": 1673494117608,
     "user": {
      "displayName": "박연균",
      "userId": "04526366611941255137"
     },
     "user_tz": -540
    },
    "id": "fRNm-kD4gtoN",
    "scrolled": true
   },
   "outputs": [],
   "source": [
    "# Load the model\n",
    "model = load_model('keras_model3.h5',compile=False)"
   ]
  },
  {
   "cell_type": "code",
   "execution_count": 22,
   "metadata": {
    "colab": {
     "base_uri": "https://localhost:8080/"
    },
    "executionInfo": {
     "elapsed": 6,
     "status": "ok",
     "timestamp": 1658042881292,
     "user": {
      "displayName": "박연균",
      "userId": "04526366611941255137"
     },
     "user_tz": -540
    },
    "id": "4l0Av4oPhAuu",
    "outputId": "a915b193-a071-463f-87a9-ff84f9b42f52"
   },
   "outputs": [
    {
     "name": "stdout",
     "output_type": "stream",
     "text": [
      "tf.Tensor([[0.00031005 0.99968994]], shape=(1, 2), dtype=float32)\n",
      "Result :  ['Red']\n"
     ]
    }
   ],
   "source": [
    "data = np.ndarray(shape=(1, 224, 224, 3), dtype=np.float32)\n",
    "detection_result=[]\n",
    "#detection_result='N'\n",
    "\n",
    "image = Image.open('test/(150).PNG').convert('RGB')\n",
    "size = (224, 224)\n",
    "image = ImageOps.fit(image, size, Image.ANTIALIAS)\n",
    "\n",
    "image_array = np.asarray(image)\n",
    "normalized_image_array = (image_array.astype(np.float32) / 127.0) - 1\n",
    "data[0] = normalized_image_array\n",
    "\n",
    "prediction = model(data)\n",
    "print(prediction)\n",
    "\n",
    "if(prediction[0,0]>prediction[0,1]):\n",
    "  #detection_result='Red'\n",
    "  detection_result.append('Red')\n",
    "  print('Result : ',detection_result)\n",
    "else:\n",
    "  #detection_result='Green'\n",
    "  detection_result.append('Green')\n",
    "  print('Result : ',detection_result)"
   ]
  },
  {
   "cell_type": "markdown",
   "metadata": {
    "id": "6g-POiSlw6FN"
   },
   "source": [
    "#### Red/Green 개수 출력"
   ]
  },
  {
   "cell_type": "code",
   "execution_count": 14,
   "metadata": {
    "colab": {
     "base_uri": "https://localhost:8080/"
    },
    "executionInfo": {
     "elapsed": 619,
     "status": "ok",
     "timestamp": 1658048999480,
     "user": {
      "displayName": "박연균",
      "userId": "04526366611941255137"
     },
     "user_tz": -540
    },
    "id": "oqsPOVW2m_h0",
    "outputId": "c34fa915-7455-4e9a-cbc2-6a63034edf99"
   },
   "outputs": [
    {
     "name": "stdout",
     "output_type": "stream",
     "text": [
      "Green :  44\n",
      "Red :  27\n",
      "red :  ['test/(107).PNG', 'test/(200).PNG', 'test/(98).PNG', 'test/(102).PNG', 'test/(113).PNG', 'test/(106).PNG', 'test/(110).PNG', 'test/(116).PNG', 'test/(217).PNG', 'test/(97).PNG', 'test/(111).PNG', 'test/(94).PNG', 'test/(114).PNG', 'test/(100).PNG', 'test/(219).PNG', 'test/(105).PNG', 'test/(210).PNG', 'test/(115).PNG', 'test/(103).PNG', 'test/(112).PNG', 'test/(216).PNG', 'test/(197).PNG', 'test/(95).PNG', 'test/(104).PNG', 'test/(226).PNG', 'test/(101).PNG', 'test/(96).PNG']\n"
     ]
    }
   ],
   "source": [
    "data = np.ndarray(shape=(1, 224, 224, 3), dtype=np.float32)\n",
    "size = (224, 224)\n",
    "detection_result = []\n",
    "\n",
    "image_files = glob.glob('test/*.PNG')\n",
    "red_images = []\n",
    "for i in image_files:\n",
    "  image = Image.open(i).convert('RGB')\n",
    "  image = ImageOps.fit(image, size, Image.ANTIALIAS)\n",
    "\n",
    "  image_array = np.asarray(image)\n",
    "  normalized_image_array = (image_array.astype(np.float32) / 127.0) - 1\n",
    "  data[0] = normalized_image_array\n",
    "\n",
    "  prediction = model(data)\n",
    "\n",
    "  if(prediction[0,0] < prediction[0,1]):\n",
    "    detection_result.append('Red')\n",
    "    red_images.append(i)\n",
    "  else:\n",
    "    detection_result.append('Green')\n",
    "\n",
    "#result=detection_result.count('Green')+detection_result.count('Red')\n",
    "\n",
    "print('Green : ',detection_result.count('Green'))\n",
    "print('Red : ',detection_result.count('Red'))\n",
    "print('red : ',red_images)"
   ]
  },
  {
   "cell_type": "code",
   "execution_count": 8,
   "metadata": {
    "colab": {
     "base_uri": "https://localhost:8080/"
    },
    "collapsed": true,
    "executionInfo": {
     "elapsed": 9445,
     "status": "ok",
     "timestamp": 1673494979424,
     "user": {
      "displayName": "박연균",
      "userId": "04526366611941255137"
     },
     "user_tz": -540
    },
    "id": "ubASQuh8q3Jw",
    "jupyter": {
     "outputs_hidden": true,
     "source_hidden": true
    },
    "outputId": "6e73977a-d32b-450c-879c-3da6ce872583"
   },
   "outputs": [
    {
     "name": "stdout",
     "output_type": "stream",
     "text": [
      "===============\n",
      "Green :  0\n",
      "Red :  0\n",
      "===============\n"
     ]
    }
   ],
   "source": [
    "data = np.ndarray(shape=(1, 224, 224, 3), dtype=np.float32)\n",
    "size = (224, 224)\n",
    "detection_result = []\n",
    "labels=['Red','Green','Exception']\n",
    "\n",
    "image_files = glob.glob('test/*.PNG')\n",
    "\n",
    "for i in image_files:\n",
    "  image = Image.open(i)\n",
    "  image = ImageOps.fit(image, size, Image.ANTIALIAS)\n",
    "\n",
    "  image_array = np.asarray(image)\n",
    "  normalized_image_array = (image_array.astype(np.float32) / 127.0) - 1\n",
    "  data[0] = normalized_image_array\n",
    "\n",
    "  prediction = model.predict(data)\n",
    "  idx=np.argmax(prediction)\n",
    "\n",
    "  if(labels[idx]=='Green'):\n",
    "    detection_result.append('Green')\n",
    "  elif(labels[idx]=='Red'):\n",
    "    detection_result.append('Red')\n",
    "  elif(labels[idx]=='Exception'):\n",
    "    detection_result.append('Exception')\n",
    "\n",
    "  print(\"[ Result : \",labels[idx],\"]\")\n",
    "  plt.imshow(image)\n",
    "  plt.show()\n",
    "  print(\"\\n\")\n",
    "\n",
    "print(\"===============\")\n",
    "print('Green : ',detection_result.count('Green'))\n",
    "print('Red : ',detection_result.count('Red'))\n",
    "#print('Exception : ',detection_result.count('Exception'))\n",
    "print(\"===============\")"
   ]
  },
  {
   "cell_type": "code",
   "execution_count": 9,
   "metadata": {
    "collapsed": true,
    "id": "ihs_KioiF8fm",
    "jupyter": {
     "outputs_hidden": true,
     "source_hidden": true
    }
   },
   "outputs": [
    {
     "ename": "NameError",
     "evalue": "name 'error_df' is not defined",
     "output_type": "error",
     "traceback": [
      "\u001b[0;31m---------------------------------------------------------------------------\u001b[0m",
      "\u001b[0;31mNameError\u001b[0m                                 Traceback (most recent call last)",
      "Cell \u001b[0;32mIn[9], line 2\u001b[0m\n\u001b[1;32m      1\u001b[0m \u001b[38;5;66;03m# classification by threshold\u001b[39;00m\n\u001b[0;32m----> 2\u001b[0m pred_y \u001b[38;5;241m=\u001b[39m [\u001b[38;5;241m1\u001b[39m \u001b[38;5;28;01mif\u001b[39;00m e \u001b[38;5;241m>\u001b[39m threshold_fixed \u001b[38;5;28;01melse\u001b[39;00m \u001b[38;5;241m0\u001b[39m \u001b[38;5;28;01mfor\u001b[39;00m e \u001b[38;5;129;01min\u001b[39;00m \u001b[43merror_df\u001b[49m[\u001b[38;5;124m'\u001b[39m\u001b[38;5;124mReconstruction_error\u001b[39m\u001b[38;5;124m'\u001b[39m]\u001b[38;5;241m.\u001b[39mvalues]\n\u001b[1;32m      4\u001b[0m conf_matrix \u001b[38;5;241m=\u001b[39m metrics\u001b[38;5;241m.\u001b[39mconfusion_matrix(error_df[\u001b[38;5;124m'\u001b[39m\u001b[38;5;124mTrue_class\u001b[39m\u001b[38;5;124m'\u001b[39m], pred_y)\n\u001b[1;32m      5\u001b[0m plt\u001b[38;5;241m.\u001b[39mfigure(figsize\u001b[38;5;241m=\u001b[39m(\u001b[38;5;241m7\u001b[39m, \u001b[38;5;241m7\u001b[39m))\n",
      "\u001b[0;31mNameError\u001b[0m: name 'error_df' is not defined"
     ]
    }
   ],
   "source": [
    "# classification by threshold\n",
    "pred_y = [1 if e > threshold_fixed else 0 for e in error_df['Reconstruction_error'].values]\n",
    "\n",
    "conf_matrix = metrics.confusion_matrix(error_df['True_class'], pred_y)\n",
    "plt.figure(figsize=(7, 7))\n",
    "sns.heatmap(conf_matrix, xticklabels=LABELS, yticklabels=LABELS, annot=True, fmt='d')\n",
    "plt.title('Confusion Matrix')\n",
    "plt.xlabel('Predicted Class'); plt.ylabel('True Class')\n",
    "plt.show()"
   ]
  },
  {
   "cell_type": "code",
   "execution_count": 4,
   "metadata": {
    "collapsed": true,
    "jupyter": {
     "outputs_hidden": true,
     "source_hidden": true
    }
   },
   "outputs": [
    {
     "ename": "NameError",
     "evalue": "name 'metrics' is not defined",
     "output_type": "error",
     "traceback": [
      "\u001b[1;31m---------------------------------------------------------------------------\u001b[0m",
      "\u001b[1;31mNameError\u001b[0m                                 Traceback (most recent call last)",
      "\u001b[1;32m~\\AppData\\Local\\Temp\\ipykernel_8708\\2658303070.py\u001b[0m in \u001b[0;36m<module>\u001b[1;34m\u001b[0m\n\u001b[1;32m----> 1\u001b[1;33m \u001b[0mfalse_pos_rate\u001b[0m\u001b[1;33m,\u001b[0m \u001b[0mtrue_pos_rate\u001b[0m\u001b[1;33m,\u001b[0m \u001b[0mthresholds\u001b[0m \u001b[1;33m=\u001b[0m \u001b[0mmetrics\u001b[0m\u001b[1;33m.\u001b[0m\u001b[0mroc_curve\u001b[0m\u001b[1;33m(\u001b[0m\u001b[0merror_df\u001b[0m\u001b[1;33m[\u001b[0m\u001b[1;34m'True_class'\u001b[0m\u001b[1;33m]\u001b[0m\u001b[1;33m,\u001b[0m \u001b[0merror_df\u001b[0m\u001b[1;33m[\u001b[0m\u001b[1;34m'Reconstruction_error'\u001b[0m\u001b[1;33m]\u001b[0m\u001b[1;33m)\u001b[0m\u001b[1;33m\u001b[0m\u001b[1;33m\u001b[0m\u001b[0m\n\u001b[0m\u001b[0;32m      2\u001b[0m \u001b[0mroc_auc\u001b[0m \u001b[1;33m=\u001b[0m \u001b[0mmetrics\u001b[0m\u001b[1;33m.\u001b[0m\u001b[0mauc\u001b[0m\u001b[1;33m(\u001b[0m\u001b[0mfalse_pos_rate\u001b[0m\u001b[1;33m,\u001b[0m \u001b[0mtrue_pos_rate\u001b[0m\u001b[1;33m,\u001b[0m\u001b[1;33m)\u001b[0m\u001b[1;33m\u001b[0m\u001b[1;33m\u001b[0m\u001b[0m\n\u001b[0;32m      3\u001b[0m \u001b[1;33m\u001b[0m\u001b[0m\n\u001b[0;32m      4\u001b[0m \u001b[0mplt\u001b[0m\u001b[1;33m.\u001b[0m\u001b[0mplot\u001b[0m\u001b[1;33m(\u001b[0m\u001b[0mfalse_pos_rate\u001b[0m\u001b[1;33m,\u001b[0m \u001b[0mtrue_pos_rate\u001b[0m\u001b[1;33m,\u001b[0m \u001b[0mlinewidth\u001b[0m\u001b[1;33m=\u001b[0m\u001b[1;36m5\u001b[0m\u001b[1;33m,\u001b[0m \u001b[0mlabel\u001b[0m\u001b[1;33m=\u001b[0m\u001b[1;34m'AUC = %0.3f'\u001b[0m\u001b[1;33m%\u001b[0m \u001b[0mroc_auc\u001b[0m\u001b[1;33m)\u001b[0m\u001b[1;33m\u001b[0m\u001b[1;33m\u001b[0m\u001b[0m\n\u001b[0;32m      5\u001b[0m \u001b[0mplt\u001b[0m\u001b[1;33m.\u001b[0m\u001b[0mplot\u001b[0m\u001b[1;33m(\u001b[0m\u001b[1;33m[\u001b[0m\u001b[1;36m0\u001b[0m\u001b[1;33m,\u001b[0m\u001b[1;36m1\u001b[0m\u001b[1;33m]\u001b[0m\u001b[1;33m,\u001b[0m\u001b[1;33m[\u001b[0m\u001b[1;36m0\u001b[0m\u001b[1;33m,\u001b[0m\u001b[1;36m1\u001b[0m\u001b[1;33m]\u001b[0m\u001b[1;33m,\u001b[0m \u001b[0mlinewidth\u001b[0m\u001b[1;33m=\u001b[0m\u001b[1;36m5\u001b[0m\u001b[1;33m)\u001b[0m\u001b[1;33m\u001b[0m\u001b[1;33m\u001b[0m\u001b[0m\n",
      "\u001b[1;31mNameError\u001b[0m: name 'metrics' is not defined"
     ]
    }
   ],
   "source": [
    "false_pos_rate, true_pos_rate, thresholds = metrics.roc_curve(error_df['True_class'], error_df['Reconstruction_error'])\n",
    "roc_auc = metrics.auc(false_pos_rate, true_pos_rate,)\n",
    "\n",
    "plt.plot(false_pos_rate, true_pos_rate, linewidth=5, label='AUC = %0.3f'% roc_auc)\n",
    "plt.plot([0,1],[0,1], linewidth=5)\n",
    "\n",
    "plt.xlim([-0.01, 1])\n",
    "plt.ylim([0, 1.01])\n",
    "plt.legend(loc='lower right')\n",
    "plt.title('Receiver operating characteristic curve (ROC)')\n",
    "plt.ylabel('True Positive Rate'); plt.xlabel('False Positive Rate')\n",
    "plt.show()"
   ]
  },
  {
   "cell_type": "code",
   "execution_count": null,
   "metadata": {},
   "outputs": [],
   "source": []
  }
 ],
 "metadata": {
  "colab": {
   "authorship_tag": "ABX9TyPpuYTDDdwi3/t72V+WNfd7",
   "mount_file_id": "1bS3TBvVYnIywEb7GMkLAdX0lz2dEhgBa",
   "provenance": []
  },
  "kernelspec": {
   "display_name": "Python 3 (ipykernel)",
   "language": "python",
   "name": "python3"
  },
  "language_info": {
   "codemirror_mode": {
    "name": "ipython",
    "version": 3
   },
   "file_extension": ".py",
   "mimetype": "text/x-python",
   "name": "python",
   "nbconvert_exporter": "python",
   "pygments_lexer": "ipython3",
   "version": "3.9.21"
  }
 },
 "nbformat": 4,
 "nbformat_minor": 4
}
